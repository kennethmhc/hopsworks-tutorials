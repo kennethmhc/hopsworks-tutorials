{
 "cells": [
  {
   "cell_type": "markdown",
   "id": "98cfd1d7",
   "metadata": {},
   "source": [
    "# <span style=\"font-width:bold; font-size: 3rem; color:#1EB182;\"><img src=\"../images/icon102.png\" width=\"38px\"></img> **Hopsworks Feature Store** </span><span style=\"font-width:bold; font-size: 3rem; color:#333;\">- Part 03: Model training & UI Exploration</span>\n",
    "\n",
    "<span style=\"font-width:bold; font-size: 1.4rem;\">In this last notebook, we will train a model on the dataset we created in the previous tutorial. We will train our model using standard Python and Scikit-learn, although it could just as well be trained with other machine learning frameworks such as PySpark, TensorFlow, and PyTorch. We will also show some of the exploration that can be done in Hopsworks, notably the search functions and the lineage. </span>\n",
    "\n",
    "## **🗒️ This notebook is divided in 3 main sections:** \n",
    "1. **Loading the training data**\n",
    "2. **Train the model**\n",
    "3. **Explore feature groups and views** via the UI.\n",
    "\n",
    "![tutorial-flow](../images/03_model.png)"
   ]
  },
  {
   "cell_type": "code",
   "execution_count": null,
   "id": "cdd8b8f5",
   "metadata": {},
   "outputs": [],
   "source": [
    "import hopsworks\n",
    "\n",
    "project = hopsworks.login()\n",
    "\n",
    "fs = project.get_feature_store()"
   ]
  },
  {
   "cell_type": "markdown",
   "id": "ea98343a",
   "metadata": {},
   "source": [
    "## <span style=\"color:#ff5f27;\"> ✨ Load Training Data </span>\n",
    "\n",
    "First, we'll need to fetch the training dataset that we created in the previous notebook. We will use January - February data training and testing."
   ]
  },
  {
   "cell_type": "code",
   "execution_count": null,
   "id": "4df1e781",
   "metadata": {},
   "outputs": [],
   "source": [
    "import pandas as pd\n",
    "from sklearn.linear_model import LogisticRegression\n",
    "\n",
    "# Load data.\n",
    "feature_view = fs.get_feature_view(\"transactions_offline_fv\", 1)\n",
    "X_train, y_train, X_val, y_val, X_test, y_test = feature_view.get_train_validation_test_splits(1)"
   ]
  },
  {
   "cell_type": "markdown",
   "id": "0fd99ef4",
   "metadata": {},
   "source": [
    "We will train a model to predict `fraud_label` given the rest of the features."
   ]
  },
  {
   "cell_type": "markdown",
   "id": "08f1250f",
   "metadata": {},
   "source": [
    "Let's check the distribution of our target label."
   ]
  },
  {
   "cell_type": "code",
   "execution_count": null,
   "id": "c89159e5",
   "metadata": {},
   "outputs": [],
   "source": [
    "y_train.value_counts(normalize=True)"
   ]
  },
  {
   "cell_type": "markdown",
   "id": "a9808192",
   "metadata": {},
   "source": [
    "Notice that the distribution is extremely skewed, which is natural considering that fraudulent transactions make up a tiny part of all transactions. Thus we should somehow address the class imbalance. There are many approaches for this, such as weighting the loss function, over- or undersampling, creating synthetic data, or modifying the decision threshold. In this example, we'll use the simplest method which is to just supply a class weight parameter to our learning algorithm. The class weight will affect how much importance is attached to each class, which in our case means that higher importance will be placed on positive (fraudulent) samples."
   ]
  },
  {
   "cell_type": "markdown",
   "id": "3e2bbacf",
   "metadata": {},
   "source": [
    "## <span style=\"color:#ff5f27;\"> 🏃 Train Model</span>\n",
    "\n",
    "Next we'll train a model. Here, we set the class weight of the positive class to be twice as big as the negative class."
   ]
  },
  {
   "cell_type": "code",
   "execution_count": null,
   "id": "9ec51959",
   "metadata": {},
   "outputs": [],
   "source": [
    "# Train model.\n",
    "pos_class_weight = 0.9\n",
    "clf = LogisticRegression(class_weight={0: 1.0 - pos_class_weight, 1: pos_class_weight}, solver='liblinear')\n",
    "clf.fit(X_train, y_train)"
   ]
  },
  {
   "cell_type": "markdown",
   "id": "054f8782",
   "metadata": {},
   "source": [
    "Let's see how well it performs on our validation data."
   ]
  },
  {
   "cell_type": "code",
   "execution_count": null,
   "id": "9c6c42a6",
   "metadata": {},
   "outputs": [],
   "source": [
    "from sklearn.metrics import classification_report\n",
    "\n",
    "preds = clf.predict(X_val)\n",
    "\n",
    "print(classification_report(y_val, preds))\n"
   ]
  },
  {
   "cell_type": "markdown",
   "id": "06a5e508",
   "metadata": {},
   "source": [
    "## <span style=\"color:#ff5f27;\">  Use the model to score transactions </span>\n",
    "We trained model based on January - February data. Now lets retrieve March data and score whether transactions are fraudulend or not   \n"
   ]
  },
  {
   "cell_type": "code",
   "execution_count": null,
   "id": "a3830117",
   "metadata": {},
   "outputs": [],
   "source": [
    "from datetime import datetime\n",
    "date_format = \"%Y-%m-%d %H:%M:%S\"\n",
    "# Create training datasets based event time filter\n",
    "start_time = int(float(datetime.strptime(\"2022-01-03 00:00:01\", date_format).timestamp()) * 1000)\n",
    "end_time = int(float(datetime.strptime(\"2022-03-31 23:59:59\", date_format).timestamp()) * 1000)\n",
    "\n",
    "march_transactions = feature_view.get_batch_data(start_time = start_time,  end_time = end_time)"
   ]
  },
  {
   "cell_type": "code",
   "execution_count": null,
   "id": "d21ae49a",
   "metadata": {},
   "outputs": [],
   "source": [
    "march_transactions"
   ]
  },
  {
   "cell_type": "code",
   "execution_count": null,
   "id": "e2ac8242",
   "metadata": {},
   "outputs": [],
   "source": [
    "predictions = clf.predict(march_transactions)"
   ]
  },
  {
   "cell_type": "code",
   "execution_count": null,
   "id": "e956c419",
   "metadata": {},
   "outputs": [],
   "source": [
    "predictions"
   ]
  },
  {
   "cell_type": "markdown",
   "id": "00835f55",
   "metadata": {
    "jp-MarkdownHeadingCollapsed": true,
    "tags": []
   },
   "source": [
    "## <span style=\"color:#ff5f27;\"> 👓  Exploration</span>\n",
    "In the Hopsworks feature store, the metadata allows for multiple levels of explorations and review. Here we will show a few of those capacities. \n",
    "\n",
    "### 🔎 <b>Search</b> \n",
    "Using the search function in the ui, you can query any aspect of the feature groups, feature_view and training data that was previously created.\n",
    "\n",
    "### 📊 <b>Statistics</b> \n",
    "We can also enable statistics in one or all the feature groups."
   ]
  },
  {
   "cell_type": "code",
   "execution_count": null,
   "id": "8d553359",
   "metadata": {},
   "outputs": [],
   "source": [
    "trans_fg = fs.get_feature_group(\"transactions_offline_fg\", version = 1)\n",
    "trans_fg.statistics_config = {\n",
    "    \"enabled\": True,\n",
    "    \"histograms\": True,\n",
    "    \"correlations\": True\n",
    "}\n",
    "\n",
    "trans_fg.update_statistics_config()\n",
    "trans_fg.compute_statistics()"
   ]
  },
  {
   "cell_type": "markdown",
   "id": "4a1e1c48",
   "metadata": {},
   "source": [
    "![fg-statistics](../images/fg_statistics.gif)\n",
    "\n",
    "\n",
    "### ⛓️ <b> Lineage </b> \n",
    "In all the feature groups and feature view you can look at the relation between each abstractions; what feature group created which training dataset and that is used in which model.\n",
    "This allows for a clear undestanding of the pipeline in relation to each element. "
   ]
  },
  {
   "cell_type": "markdown",
   "id": "0fc40445",
   "metadata": {},
   "source": [
    "## <span style=\"color:#ff5f27;\"> 🎁  Wrapping things up </span>\n",
    "\n",
    "We have now performed a simple training with training data that we have created in the feature store. This concludes the fisrt module and introduction to the core aspect of the feauture store. In the second module we will introduce streaming and external feature groups for a similar fraud use case."
   ]
  }
 ],
 "metadata": {
  "kernelspec": {
   "display_name": "Python 3 (ipykernel)",
   "language": "python",
   "name": "python3"
  },
  "language_info": {
   "codemirror_mode": {
    "name": "ipython",
    "version": 3
   },
   "file_extension": ".py",
   "mimetype": "text/x-python",
   "name": "python",
   "nbconvert_exporter": "python",
   "pygments_lexer": "ipython3",
   "version": "3.8.13"
  }
 },
 "nbformat": 4,
 "nbformat_minor": 5
}
