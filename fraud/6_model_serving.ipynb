{
 "cells": [
  {
   "cell_type": "markdown",
   "id": "4cc53397",
   "metadata": {},
   "source": [
    "## Model serving with HSML\n",
    "\n",
    "In this example, we are going to serve the model that we created in the model training notebook.\n",
    "\n",
    "For the example to work, you need to have serving enabled in your project. In the settings tab for your project, select Serving to enable it. Now your UI should show a new tab called Model Serving.\n",
    "\n",
    "A model deployment (also called \"model serving\") can be created directly in the Hopsworks UI, by clicking on Model Serving and then on Create New Serving. In this example, however, we will create it through code with the HSML library.\n",
    "\n",
    "![tutorial-flow](images/end_to_end.png)"
   ]
  },
  {
   "cell_type": "markdown",
   "id": "a7389190",
   "metadata": {},
   "source": [
    "### About Model Serving\n",
    "\n",
    "Models can be served via KFServing or \"default\" serving, which means a Docker container exposing a Flask server. For KFServing models, or models written in Tensorflow, you do not need to write a prediction file (see the section below). However, for sklearn models using default serving, you do need to proceed to write a prediction file.\n",
    "\n",
    "In order to use KFServing, you must have Kubernetes installed and enabled on your cluster."
   ]
  },
  {
   "cell_type": "markdown",
   "id": "1a06f7d1",
   "metadata": {},
   "source": [
    "## connect to feature store "
   ]
  },
  {
   "cell_type": "code",
   "execution_count": 2,
   "id": "61ca83ef",
   "metadata": {},
   "outputs": [
    {
     "name": "stdout",
     "output_type": "stream",
     "text": [
      "Connected. Call `.close()` to terminate connection gracefully.\n"
     ]
    }
   ],
   "source": [
    "import hsfs\n",
    "\n",
    "# connect to feature store\n",
    "conn = hsfs.connection()\n",
    "fs = conn.get_feature_store()"
   ]
  },
  {
   "cell_type": "markdown",
   "id": "8a3f440c",
   "metadata": {},
   "source": [
    "## get feature view "
   ]
  },
  {
   "cell_type": "code",
   "execution_count": null,
   "id": "8ab3f2e5",
   "metadata": {},
   "outputs": [],
   "source": [
    "feature_view = fs.get_feature_view(\"transactions_view\", 1)"
   ]
  },
  {
   "cell_type": "markdown",
   "id": "667c9166",
   "metadata": {},
   "source": [
    "##  get feature vectore from online feature store "
   ]
  },
  {
   "cell_type": "code",
   "execution_count": 4,
   "id": "d568e864",
   "metadata": {},
   "outputs": [],
   "source": [
    "# Training data version is required for transformation. Call `feature_view.init_serving(version)` to pass the training dataset version.Training \n",
    "# data can be created by `feature_view.create_training_data` or `feature_view.get_training_data`.\n",
    "\n",
    "feature_view.init_serving(1)"
   ]
  },
  {
   "cell_type": "code",
   "execution_count": 5,
   "id": "3a72b2f1",
   "metadata": {},
   "outputs": [],
   "source": [
    "card_ids = [\n",
    "    \"4473593503484549\",\n",
    "    \"4336399961348201\",\n",
    "    \"4219785543443381\",\n",
    "    \"4137709749259770\",\n",
    "    \"4573366597272313\",\n",
    "    \"4929411498746287\",\n",
    "    \"4855787436134696\"    \n",
    "]"
   ]
  },
  {
   "cell_type": "code",
   "execution_count": null,
   "id": "16682aa5",
   "metadata": {},
   "outputs": [],
   "source": [
    "feature_view.get_feature_vector({\"cc_num\": \"4473593503484549\"})"
   ]
  },
  {
   "cell_type": "markdown",
   "id": "8fec20c8",
   "metadata": {},
   "source": [
    "## TODO (Davit): gif how to model serving from the UI\n",
    "### Use REST endpoint \n",
    "\n",
    "You can also use a REST endpoint for your model. To do this you need to create an API key with 'serving' enabled, and retrieve the endpoint URL from the Model Serving UI.\n",
    "\n",
    "Go to the Model Serving UI and click on the eye icon next to a model to retrieve the endpoint URL. The shorter URL is an internal endpoint that you can only reach from within Hopsworks. If you want to call it from outside, you need one of the longer URLs. Make sure to use https instead of http. (**TODO this should be fixed**)\n"
   ]
  },
  {
   "cell_type": "code",
   "execution_count": 3,
   "id": "5d7d7f71",
   "metadata": {},
   "outputs": [
    {
     "name": "stdout",
     "output_type": "stream",
     "text": [
      "Connected. Call `.close()` to terminate connection gracefully.\n"
     ]
    },
    {
     "data": {
      "text/plain": [
       "{'predictions': [0]}"
      ]
     },
     "execution_count": 3,
     "metadata": {},
     "output_type": "execute_result"
    }
   ],
   "source": [
    "import os\n",
    "import requests\n",
    "\n",
    "import hsml\n",
    "\n",
    "conn = hsml.connection()\n",
    "mr = conn.get_model_registry()\n",
    "\n",
    "# Use the model name from the previous notebook.\n",
    "model = mr.get_model(\"fraud_tutorial_model\", version=1)\n",
    "\n",
    "API_KEY = \"\"  # Put your API key here.\n",
    "MODEL_SERVING_ENDPOINT = \"\" # Put model serving endppoint here.\n",
    "HOST_NAMDE = \"\" # Put your hopsworks model serving endppoint here "
   ]
  },
  {
   "cell_type": "code",
   "execution_count": null,
   "id": "ee37cb20",
   "metadata": {},
   "outputs": [],
   "source": [
    "data = {\"inputs\": test_inputs}\n",
    "url = os.environ[\"REST_ENDPOINT\"] + MODEL_SERVING_ENDPOINT \n",
    "headers = {\n",
    "    \"Content-Type\": \"application/json\", \"Accept\": \"application/json\",\n",
    "    \"Authorization\": f\"ApiKey {API_KEY}\",\n",
    "    \"Host\": \"\"}\n",
    "\n",
    "response = requests.post(url, verify=False, headers=headers, json=data)\n",
    "response.json()"
   ]
  },
  {
   "cell_type": "markdown",
   "id": "28ef439a",
   "metadata": {},
   "source": [
    "### Stop Deployment\n",
    "\n",
    "To stop the deployment we simply run:"
   ]
  },
  {
   "cell_type": "code",
   "execution_count": null,
   "id": "ec36000a",
   "metadata": {},
   "outputs": [],
   "source": [
    "deployment.stop()"
   ]
  },
  {
   "cell_type": "markdown",
   "id": "1136a206",
   "metadata": {},
   "source": [
    "### Next Steps\n",
    "\n",
    "In the next notebook we'll take a look at how to automate jobs in Hopsworks using Airflow."
   ]
  }
 ],
 "metadata": {
  "kernelspec": {
   "display_name": "Python",
   "language": "python",
   "name": "python3"
  },
  "language_info": {
   "codemirror_mode": {
    "name": "ipython",
    "version": 3
   },
   "file_extension": ".py",
   "mimetype": "text/x-python",
   "name": "python",
   "nbconvert_exporter": "python",
   "pygments_lexer": "ipython3",
   "version": "3.8.11"
  }
 },
 "nbformat": 4,
 "nbformat_minor": 5
}