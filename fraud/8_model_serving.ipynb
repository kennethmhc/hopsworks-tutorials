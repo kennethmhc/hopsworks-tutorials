{
 "cells": [
  {
   "cell_type": "markdown",
   "id": "55b92fd5",
   "metadata": {},
   "source": [
    "## Model serving\n",
    "\n",
    "In this example, we are going to serve the model that we created in the model training notebook.\n",
    "\n",
    "For the example to work, you need to have serving enabled in your project. In the settings tab for your project, select Serving to enable it. Now your UI should show a new tab called Model Serving.\n",
    "\n",
    "A model deployment (also called \"model serving\") can be created directly in the Hopsworks UI, by clicking on Model Serving and then on Create New Serving. In this example, however, we will create it through code with the HSML library.\n",
    "\n",
    "![tutorial-flow](images/end_to_end.png)"
   ]
  },
  {
   "cell_type": "markdown",
   "id": "5f102e55",
   "metadata": {},
   "source": [
    "### Model serving with the online feature store\n",
    "\n",
    "With the online feature store, you can get the current feature vector corresponding to some entity in your model, such as credit card ID in this case. \n",
    "\n",
    "As usual, start by connecting to the feature store"
   ]
  },
  {
   "cell_type": "code",
   "execution_count": 3,
   "id": "1c590f02",
   "metadata": {},
   "outputs": [],
   "source": [
    "import hsfs\n",
    "\n",
    "conn = hsfs.connection()\n",
    "fs = conn.get_feature_store()"
   ]
  },
  {
   "cell_type": "markdown",
   "id": "bce1a0ea",
   "metadata": {},
   "source": [
    "Get the feature view `transactions_view` from the feature store."
   ]
  },
  {
   "cell_type": "code",
   "execution_count": null,
   "id": "70fa260d",
   "metadata": {},
   "outputs": [],
   "source": [
    "feature_view = fs.get_feature_view(\"transactions_view\", 1)"
   ]
  },
  {
   "cell_type": "markdown",
   "id": "2334330f",
   "metadata": {},
   "source": [
    "###  Get feature vector from the online feature store\n"
   ]
  },
  {
   "cell_type": "code",
   "execution_count": 4,
   "id": "b531c7ac",
   "metadata": {},
   "outputs": [],
   "source": [
    "# Training data version is required for transformation. Call `feature_view.init_serving(version)` to pass the training dataset version.Training \n",
    "# data can be created by `feature_view.create_training_data` or `feature_view.get_training_data`.\n",
    "\n",
    "feature_view.init_serving(1)"
   ]
  },
  {
   "cell_type": "code",
   "execution_count": 5,
   "id": "8d4a6115",
   "metadata": {},
   "outputs": [],
   "source": [
    "card_ids = [\n",
    "    \"4473593503484549\",\n",
    "    \"4336399961348201\",\n",
    "    \"4219785543443381\",\n",
    "    \"4137709749259770\",\n",
    "    \"4573366597272313\",\n",
    "    \"4929411498746287\",\n",
    "    \"4855787436134696\"    \n",
    "]"
   ]
  },
  {
   "cell_type": "code",
   "execution_count": null,
   "id": "dc9dc7ea",
   "metadata": {},
   "outputs": [],
   "source": [
    "feature_view.get_feature_vector({\"cc_num\": \"4473593503484549\"})"
   ]
  },
  {
   "cell_type": "markdown",
   "id": "e883a890",
   "metadata": {},
   "source": [
    "## TODO: There seems to be no connection here between feature_view and the stuff below with test_inputs etc."
   ]
  },
  {
   "cell_type": "markdown",
   "id": "a5ce6d81",
   "metadata": {},
   "source": [
    "## TODO (Davit): gif how to model serving from the UI\n",
    "### Use REST endpoint \n",
    "\n",
    "You can call the served model via the HSML library, or alternatively use a REST endpoint for your model. To do the latter, you need to create an API key with 'serving' enabled, and retrieve the endpoint URL from the Model Serving UI.\n",
    "\n",
    "Go to the Model Serving UI and click on the eye icon next to a model to retrieve the endpoint URL. The shorter URL is an internal endpoint that you can only reach from within Hopsworks. If you want to call it from outside, you need one of the longer URLs. Make sure to use https instead of http. (**TODO this should be fixed**)\n"
   ]
  },
  {
   "cell_type": "code",
   "execution_count": 3,
   "id": "44667180",
   "metadata": {},
   "outputs": [
    {
     "name": "stdout",
     "output_type": "stream",
     "text": [
      "Connected. Call `.close()` to terminate connection gracefully.\n"
     ]
    },
    {
     "data": {
      "text/plain": [
       "{'predictions': [0]}"
      ]
     },
     "execution_count": 3,
     "metadata": {},
     "output_type": "execute_result"
    }
   ],
   "source": [
    "import os\n",
    "import requests\n",
    "\n",
    "import hsml\n",
    "\n",
    "conn = hsml.connection()\n",
    "mr = conn.get_model_registry()\n",
    "\n",
    "# Use the model name from the previous notebook.\n",
    "model = mr.get_model(\"fraud_tutorial_model\", version=1)\n",
    "\n",
    "API_KEY = \"\"  # Put your API key here.\n",
    "MODEL_SERVING_ENDPOINT = \"\" # Put model serving endppoint here.\n",
    "HOST_NAMDE = \"\" # Put your hopsworks model serving endppoint here "
   ]
  },
  {
   "cell_type": "code",
   "execution_count": null,
   "id": "c725f91b",
   "metadata": {},
   "outputs": [],
   "source": [
    "data = {\"inputs\": test_inputs}\n",
    "url = os.environ[\"REST_ENDPOINT\"] + MODEL_SERVING_ENDPOINT \n",
    "headers = {\n",
    "    \"Content-Type\": \"application/json\", \"Accept\": \"application/json\",\n",
    "    \"Authorization\": f\"ApiKey {API_KEY}\",\n",
    "    \"Host\": \"\"}\n",
    "\n",
    "response = requests.post(url, verify=False, headers=headers, json=data)\n",
    "response.json()"
   ]
  },
  {
   "cell_type": "markdown",
   "id": "e8b1f413",
   "metadata": {},
   "source": [
    "### Stop Deployment\n",
    "\n",
    "To stop the deployment we simply run:"
   ]
  },
  {
   "cell_type": "code",
   "execution_count": null,
   "id": "911ae709",
   "metadata": {},
   "outputs": [],
   "source": [
    "deployment.stop()"
   ]
  }
 ],
 "metadata": {
  "kernelspec": {
   "display_name": "Python 3",
   "language": "python",
   "name": "python3"
  },
  "language_info": {
   "codemirror_mode": {
    "name": "ipython",
    "version": 3
   },
   "file_extension": ".py",
   "mimetype": "text/x-python",
   "name": "python",
   "nbconvert_exporter": "python",
   "pygments_lexer": "ipython3",
   "version": "3.8.10"
  }
 },
 "nbformat": 4,
 "nbformat_minor": 5
}
