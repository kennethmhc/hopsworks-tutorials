{
 "cells": [
  {
   "cell_type": "markdown",
   "metadata": {},
   "source": [
    "## Dataset Creation\n",
    "\n",
    "In this notebook, we will create the actual dataset that we will train our model on. In particular, we will:\n",
    "1. Select the features we want to train our model on.\n",
    "2. Specify how the features should be preprocessed.\n",
    "3. Create a dataset split for training and validation data.\n",
    "\n",
    "![tutorial-flow](images/create_training_dataset.png)"
   ]
  },
  {
   "cell_type": "code",
   "execution_count": 1,
   "metadata": {},
   "outputs": [
    {
     "name": "stdout",
     "output_type": "stream",
     "text": [
      "Connected. Call `.close()` to terminate connection gracefully.\n"
     ]
    }
   ],
   "source": [
    "import hsfs\n",
    "\n",
    "conn = hsfs.connection()\n",
    "fs = conn.get_feature_store()"
   ]
  },
  {
   "cell_type": "markdown",
   "metadata": {},
   "source": [
    "### Feature Selection\n",
    "\n",
    "We start by selecting all the features we want to include for model training/inference."
   ]
  },
  {
   "cell_type": "code",
   "execution_count": 2,
   "metadata": {},
   "outputs": [
    {
     "name": "stdout",
     "output_type": "stream",
     "text": [
      "2022-05-25 12:51:37,897 INFO: USE `fv_test_featurestore`\n",
      "2022-05-25 12:51:38,841 INFO: WITH right_fg0 AS (SELECT *\n",
      "FROM (SELECT `fg1`.`fraud_label` `fraud_label`, `fg1`.`category` `category`, `fg1`.`amount` `amount`, `fg1`.`age_at_transaction` `age_at_transaction`, `fg1`.`days_until_card_expires` `days_until_card_expires`, `fg1`.`loc_delta` `loc_delta`, `fg1`.`cc_num` `join_pk_cc_num`, `fg1`.`datetime` `join_evt_datetime`, `fg0`.`trans_volume_mstd` `trans_volume_mstd`, `fg0`.`trans_volume_mavg` `trans_volume_mavg`, `fg0`.`trans_freq` `trans_freq`, `fg0`.`loc_delta_mavg` `loc_delta_mavg`, RANK() OVER (PARTITION BY `fg1`.`cc_num`, `fg1`.`datetime` ORDER BY `fg0`.`datetime` DESC) pit_rank_hopsworks\n",
      "FROM `fv_test_featurestore`.`transactions_1` `fg1`\n",
      "INNER JOIN `fv_test_featurestore`.`transactions_4h_aggs_1` `fg0` ON `fg1`.`cc_num` = `fg0`.`cc_num` AND `fg1`.`datetime` >= `fg0`.`datetime`) NA\n",
      "WHERE `pit_rank_hopsworks` = 1) (SELECT `right_fg0`.`fraud_label` `fraud_label`, `right_fg0`.`category` `category`, `right_fg0`.`amount` `amount`, `right_fg0`.`age_at_transaction` `age_at_transaction`, `right_fg0`.`days_until_card_expires` `days_until_card_expires`, `right_fg0`.`loc_delta` `loc_delta`, `right_fg0`.`trans_volume_mstd` `trans_volume_mstd`, `right_fg0`.`trans_volume_mavg` `trans_volume_mavg`, `right_fg0`.`trans_freq` `trans_freq`, `right_fg0`.`loc_delta_mavg` `loc_delta_mavg`\n",
      "FROM right_fg0)\n"
     ]
    },
    {
     "data": {
      "text/html": [
       "<div>\n",
       "<style scoped>\n",
       "    .dataframe tbody tr th:only-of-type {\n",
       "        vertical-align: middle;\n",
       "    }\n",
       "\n",
       "    .dataframe tbody tr th {\n",
       "        vertical-align: top;\n",
       "    }\n",
       "\n",
       "    .dataframe thead th {\n",
       "        text-align: right;\n",
       "    }\n",
       "</style>\n",
       "<table border=\"1\" class=\"dataframe\">\n",
       "  <thead>\n",
       "    <tr style=\"text-align: right;\">\n",
       "      <th></th>\n",
       "      <th>fraud_label</th>\n",
       "      <th>category</th>\n",
       "      <th>amount</th>\n",
       "      <th>age_at_transaction</th>\n",
       "      <th>days_until_card_expires</th>\n",
       "      <th>loc_delta</th>\n",
       "      <th>trans_volume_mstd</th>\n",
       "      <th>trans_volume_mavg</th>\n",
       "      <th>trans_freq</th>\n",
       "      <th>loc_delta_mavg</th>\n",
       "    </tr>\n",
       "  </thead>\n",
       "  <tbody>\n",
       "    <tr>\n",
       "      <th>0</th>\n",
       "      <td>0</td>\n",
       "      <td>Grocery</td>\n",
       "      <td>93.51</td>\n",
       "      <td>25.334094</td>\n",
       "      <td>175.912280</td>\n",
       "      <td>0.000000</td>\n",
       "      <td>93.510</td>\n",
       "      <td>93.510</td>\n",
       "      <td>93.510</td>\n",
       "      <td>0.000000</td>\n",
       "    </tr>\n",
       "    <tr>\n",
       "      <th>1</th>\n",
       "      <td>0</td>\n",
       "      <td>Domestic Transport</td>\n",
       "      <td>65.14</td>\n",
       "      <td>25.335632</td>\n",
       "      <td>175.350486</td>\n",
       "      <td>0.319574</td>\n",
       "      <td>65.140</td>\n",
       "      <td>65.140</td>\n",
       "      <td>65.140</td>\n",
       "      <td>0.319574</td>\n",
       "    </tr>\n",
       "    <tr>\n",
       "      <th>2</th>\n",
       "      <td>0</td>\n",
       "      <td>Grocery</td>\n",
       "      <td>0.26</td>\n",
       "      <td>25.336235</td>\n",
       "      <td>175.130347</td>\n",
       "      <td>0.314148</td>\n",
       "      <td>0.260</td>\n",
       "      <td>0.260</td>\n",
       "      <td>0.260</td>\n",
       "      <td>0.314148</td>\n",
       "    </tr>\n",
       "    <tr>\n",
       "      <th>3</th>\n",
       "      <td>0</td>\n",
       "      <td>Grocery</td>\n",
       "      <td>1.43</td>\n",
       "      <td>25.336660</td>\n",
       "      <td>174.975058</td>\n",
       "      <td>0.000000</td>\n",
       "      <td>0.845</td>\n",
       "      <td>0.845</td>\n",
       "      <td>0.845</td>\n",
       "      <td>0.157074</td>\n",
       "    </tr>\n",
       "    <tr>\n",
       "      <th>4</th>\n",
       "      <td>0</td>\n",
       "      <td>Grocery</td>\n",
       "      <td>19.75</td>\n",
       "      <td>25.344710</td>\n",
       "      <td>172.034664</td>\n",
       "      <td>0.105313</td>\n",
       "      <td>19.750</td>\n",
       "      <td>19.750</td>\n",
       "      <td>19.750</td>\n",
       "      <td>0.105313</td>\n",
       "    </tr>\n",
       "  </tbody>\n",
       "</table>\n",
       "</div>"
      ],
      "text/plain": [
       "   fraud_label            category  amount  age_at_transaction  \\\n",
       "0            0             Grocery   93.51           25.334094   \n",
       "1            0  Domestic Transport   65.14           25.335632   \n",
       "2            0             Grocery    0.26           25.336235   \n",
       "3            0             Grocery    1.43           25.336660   \n",
       "4            0             Grocery   19.75           25.344710   \n",
       "\n",
       "   days_until_card_expires  loc_delta  trans_volume_mstd  trans_volume_mavg  \\\n",
       "0               175.912280   0.000000             93.510             93.510   \n",
       "1               175.350486   0.319574             65.140             65.140   \n",
       "2               175.130347   0.314148              0.260              0.260   \n",
       "3               174.975058   0.000000              0.845              0.845   \n",
       "4               172.034664   0.105313             19.750             19.750   \n",
       "\n",
       "   trans_freq  loc_delta_mavg  \n",
       "0      93.510        0.000000  \n",
       "1      65.140        0.319574  \n",
       "2       0.260        0.314148  \n",
       "3       0.845        0.157074  \n",
       "4      19.750        0.105313  "
      ]
     },
     "execution_count": 2,
     "metadata": {},
     "output_type": "execute_result"
    }
   ],
   "source": [
    "# Load feature groups.\n",
    "trans_fg = fs.get_feature_group(\"transactions\", 1)\n",
    "window_aggs_fg = fs.get_feature_group(\"transactions_4h_aggs\", 1)\n",
    "\n",
    "# Select features for training data.\n",
    "ds_query = trans_fg.select([\"fraud_label\", \"category\", \"amount\", \"age_at_transaction\", \"days_until_card_expires\", \"loc_delta\"])\\\n",
    "    .join(window_aggs_fg.select_except([\"cc_num\"]), on=\"cc_num\")\\\n",
    "\n",
    "ds_query.show(5)"
   ]
  },
  {
   "cell_type": "markdown",
   "metadata": {},
   "source": [
    "Recall that we computed the features in `transactions_4h_aggs` using 4-hour aggregates. If we had created multiple feature groups with identical schema for different window lengths, and wanted to include them in the join we would need to include a prefix argument in the join to avoid feature name clash. See the [documentation](https://docs.hopsworks.ai/feature-store-api/latest/generated/api/query_api/#join) for more details."
   ]
  },
  {
   "cell_type": "markdown",
   "metadata": {},
   "source": [
    "### Transformation Functions\n",
    "Transformation functions are a mathematical mapping of input data that may be stateful - requiring statistics from the partent feature view (such as number of instances of a category, or mean value of a numerical feature)\n",
    "\n",
    "We will preprocess our data using *min-max scaling* on numerical features and *label encoding* on categorical features. To do this we simply define a mapping between our features and transformation functions. This ensures that transformation functions such as *min-max scaling* are fitted only on the training data (and not the validation/test data), which ensures that there is no data leakage."
   ]
  },
  {
   "cell_type": "code",
   "execution_count": 3,
   "metadata": {},
   "outputs": [],
   "source": [
    "# Load transformation functions.\n",
    "min_max_scaler = fs.get_transformation_function(name=\"min_max_scaler\")\n",
    "label_encoder = fs.get_transformation_function(name=\"label_encoder\")\n",
    "\n",
    "# Map features to transformations.\n",
    "transformation_functions = {\n",
    "    \"category\": label_encoder,\n",
    "    \"amount\": min_max_scaler,\n",
    "    \"trans_volume_mavg\": min_max_scaler,\n",
    "    \"trans_volume_mstd\": min_max_scaler,\n",
    "    \"trans_freq\": min_max_scaler,\n",
    "    \"loc_delta\": min_max_scaler,\n",
    "    \"loc_delta_mavg\": min_max_scaler,\n",
    "    \"age_at_transaction\": min_max_scaler,\n",
    "    \"days_until_card_expires\": min_max_scaler,\n",
    "}"
   ]
  },
  {
   "cell_type": "markdown",
   "metadata": {},
   "source": [
    "### Feature View Creation\n",
    "\n",
    "In Hopsworks, you write features to feature groups (where the features are stored) and you read features from feature views. A feature view is a logical view over features, stored in feature groups, and a feature view typically contains the features used by a specific model. This way, feature views enable features, stored in different feature groups, to be reused across many different models. "
   ]
  },
  {
   "cell_type": "code",
   "execution_count": 4,
   "metadata": {},
   "outputs": [],
   "source": [
    "feature_view = fs.create_feature_view(\n",
    "    name='transactions_view',\n",
    "    query=ds_query,\n",
    "    label=[\"fraud_label\"],\n",
    "    transformation_functions=transformation_functions\n",
    ")"
   ]
  },
  {
   "cell_type": "markdown",
   "metadata": {},
   "source": [
    "To view and explore data in the feature view we can retrieve batch data using `get_batch_data()` method "
   ]
  },
  {
   "cell_type": "code",
   "execution_count": 5,
   "metadata": {},
   "outputs": [
    {
     "name": "stdout",
     "output_type": "stream",
     "text": [
      "2022-05-25 12:54:05,909 INFO: USE `fv_test_featurestore`\n",
      "2022-05-25 12:54:06,879 INFO: WITH right_fg0 AS (SELECT *\n",
      "FROM (SELECT `fg1`.`category` `category`, `fg1`.`amount` `amount`, `fg1`.`age_at_transaction` `age_at_transaction`, `fg1`.`days_until_card_expires` `days_until_card_expires`, `fg1`.`loc_delta` `loc_delta`, `fg1`.`cc_num` `join_pk_cc_num`, `fg1`.`datetime` `join_evt_datetime`, `fg0`.`trans_volume_mstd` `trans_volume_mstd`, `fg0`.`trans_volume_mavg` `trans_volume_mavg`, `fg0`.`trans_freq` `trans_freq`, `fg0`.`loc_delta_mavg` `loc_delta_mavg`, RANK() OVER (PARTITION BY `fg1`.`cc_num`, `fg1`.`datetime` ORDER BY `fg0`.`datetime` DESC) pit_rank_hopsworks\n",
      "FROM `fv_test_featurestore`.`transactions_1` `fg1`\n",
      "INNER JOIN `fv_test_featurestore`.`transactions_4h_aggs_1` `fg0` ON `fg1`.`cc_num` = `fg0`.`cc_num` AND `fg1`.`datetime` >= `fg0`.`datetime`) NA\n",
      "WHERE `pit_rank_hopsworks` = 1) (SELECT `right_fg0`.`category` `category`, `right_fg0`.`amount` `amount`, `right_fg0`.`age_at_transaction` `age_at_transaction`, `right_fg0`.`days_until_card_expires` `days_until_card_expires`, `right_fg0`.`loc_delta` `loc_delta`, `right_fg0`.`trans_volume_mstd` `trans_volume_mstd`, `right_fg0`.`trans_volume_mavg` `trans_volume_mavg`, `right_fg0`.`trans_freq` `trans_freq`, `right_fg0`.`loc_delta_mavg` `loc_delta_mavg`\n",
      "FROM right_fg0)\n"
     ]
    },
    {
     "data": {
      "text/html": [
       "<div>\n",
       "<style scoped>\n",
       "    .dataframe tbody tr th:only-of-type {\n",
       "        vertical-align: middle;\n",
       "    }\n",
       "\n",
       "    .dataframe tbody tr th {\n",
       "        vertical-align: top;\n",
       "    }\n",
       "\n",
       "    .dataframe thead th {\n",
       "        text-align: right;\n",
       "    }\n",
       "</style>\n",
       "<table border=\"1\" class=\"dataframe\">\n",
       "  <thead>\n",
       "    <tr style=\"text-align: right;\">\n",
       "      <th></th>\n",
       "      <th>category</th>\n",
       "      <th>amount</th>\n",
       "      <th>age_at_transaction</th>\n",
       "      <th>days_until_card_expires</th>\n",
       "      <th>loc_delta</th>\n",
       "      <th>trans_volume_mstd</th>\n",
       "      <th>trans_volume_mavg</th>\n",
       "      <th>trans_freq</th>\n",
       "      <th>loc_delta_mavg</th>\n",
       "    </tr>\n",
       "  </thead>\n",
       "  <tbody>\n",
       "    <tr>\n",
       "      <th>0</th>\n",
       "      <td>Grocery</td>\n",
       "      <td>93.51</td>\n",
       "      <td>25.334094</td>\n",
       "      <td>175.912280</td>\n",
       "      <td>0.000000</td>\n",
       "      <td>93.510</td>\n",
       "      <td>93.510</td>\n",
       "      <td>93.510</td>\n",
       "      <td>0.000000</td>\n",
       "    </tr>\n",
       "    <tr>\n",
       "      <th>1</th>\n",
       "      <td>Domestic Transport</td>\n",
       "      <td>65.14</td>\n",
       "      <td>25.335632</td>\n",
       "      <td>175.350486</td>\n",
       "      <td>0.319574</td>\n",
       "      <td>65.140</td>\n",
       "      <td>65.140</td>\n",
       "      <td>65.140</td>\n",
       "      <td>0.319574</td>\n",
       "    </tr>\n",
       "    <tr>\n",
       "      <th>2</th>\n",
       "      <td>Grocery</td>\n",
       "      <td>0.26</td>\n",
       "      <td>25.336235</td>\n",
       "      <td>175.130347</td>\n",
       "      <td>0.314148</td>\n",
       "      <td>0.260</td>\n",
       "      <td>0.260</td>\n",
       "      <td>0.260</td>\n",
       "      <td>0.314148</td>\n",
       "    </tr>\n",
       "    <tr>\n",
       "      <th>3</th>\n",
       "      <td>Grocery</td>\n",
       "      <td>1.43</td>\n",
       "      <td>25.336660</td>\n",
       "      <td>174.975058</td>\n",
       "      <td>0.000000</td>\n",
       "      <td>0.845</td>\n",
       "      <td>0.845</td>\n",
       "      <td>0.845</td>\n",
       "      <td>0.157074</td>\n",
       "    </tr>\n",
       "    <tr>\n",
       "      <th>4</th>\n",
       "      <td>Grocery</td>\n",
       "      <td>19.75</td>\n",
       "      <td>25.344710</td>\n",
       "      <td>172.034664</td>\n",
       "      <td>0.105313</td>\n",
       "      <td>19.750</td>\n",
       "      <td>19.750</td>\n",
       "      <td>19.750</td>\n",
       "      <td>0.105313</td>\n",
       "    </tr>\n",
       "  </tbody>\n",
       "</table>\n",
       "</div>"
      ],
      "text/plain": [
       "             category  amount  age_at_transaction  days_until_card_expires  \\\n",
       "0             Grocery   93.51           25.334094               175.912280   \n",
       "1  Domestic Transport   65.14           25.335632               175.350486   \n",
       "2             Grocery    0.26           25.336235               175.130347   \n",
       "3             Grocery    1.43           25.336660               174.975058   \n",
       "4             Grocery   19.75           25.344710               172.034664   \n",
       "\n",
       "   loc_delta  trans_volume_mstd  trans_volume_mavg  trans_freq  loc_delta_mavg  \n",
       "0   0.000000             93.510             93.510      93.510        0.000000  \n",
       "1   0.319574             65.140             65.140      65.140        0.319574  \n",
       "2   0.314148              0.260              0.260       0.260        0.314148  \n",
       "3   0.000000              0.845              0.845       0.845        0.157074  \n",
       "4   0.105313             19.750             19.750      19.750        0.105313  "
      ]
     },
     "execution_count": 5,
     "metadata": {},
     "output_type": "execute_result"
    }
   ],
   "source": [
    "feature_view.get_batch_data().head(5)"
   ]
  },
  {
   "cell_type": "markdown",
   "metadata": {},
   "source": [
    "#### Training Dataset Creation\n",
    "\n",
    "In Hopsworks training data is a query where the projection (set of features) is determined by the parent FeatureView with an optional snapshot on disk of the data returned by the query.\n",
    "\n",
    "Training Dataset  may contain splits such as: \n",
    "* Training set - the subset of training data used to train a model.\n",
    "* Validation set - the subset of training data used to evaluate hparams when training a model\n",
    "* Test set - the holdout subset of training data used to evaluate a mode\n",
    "\n",
    "Training dataset is created using `fs.create_training_dataset()` method."
   ]
  },
  {
   "cell_type": "code",
   "execution_count": 2,
   "metadata": {},
   "outputs": [
    {
     "name": "stdout",
     "output_type": "stream",
     "text": [
      "Training dataset job started successfully, you can follow the progress at https://hopsworks.glassfish.service.consul:8182/p/119/jobs/named/transactions_view_1_1_create_fv_td_26052022084011/executions\n"
     ]
    },
    {
     "name": "stderr",
     "output_type": "stream",
     "text": [
      "VersionWarning: No version provided for creating training dataset, incremented version to `1`.\n"
     ]
    }
   ],
   "source": [
    "td_random_version, td_job = feature_view.create_training_dataset(\n",
    "    description = 'transactions_dataset_random_splitted',\n",
    "    data_format = 'csv',\n",
    "    splits = {'train': 80, 'validation': 20},\n",
    "    train_split = \"train\",\n",
    "    write_options = {'wait_for_job': True},\n",
    "    coalesce = True\n",
    ")"
   ]
  },
  {
   "cell_type": "markdown",
   "metadata": {},
   "source": [
    "### Create training datasets based event time filter"
   ]
  },
  {
   "cell_type": "code",
   "execution_count": 3,
   "metadata": {},
   "outputs": [],
   "source": [
    "from datetime import datetime\n",
    "date_format = \"%Y-%m-%d %H:%M:%S\""
   ]
  },
  {
   "cell_type": "markdown",
   "metadata": {},
   "source": [
    "#### Create training dataset from January to February data "
   ]
  },
  {
   "cell_type": "code",
   "execution_count": 4,
   "metadata": {},
   "outputs": [],
   "source": [
    "start_time = int(float(datetime.strptime(\"2022-01-01 00:00:01\", date_format).timestamp()) * 1000)\n",
    "end_time = int(float(datetime.strptime(\"2022-02-28 23:59:59\", date_format).timestamp()) * 1000)"
   ]
  },
  {
   "cell_type": "code",
   "execution_count": 5,
   "metadata": {},
   "outputs": [
    {
     "name": "stdout",
     "output_type": "stream",
     "text": [
      "Training dataset job started successfully, you can follow the progress at https://hopsworks.glassfish.service.consul:8182/p/119/jobs/named/transactions_view_1_2_create_fv_td_26052022084619/executions\n"
     ]
    },
    {
     "name": "stderr",
     "output_type": "stream",
     "text": [
      "VersionWarning: No version provided for creating training dataset, incremented version to `2`.\n"
     ]
    }
   ],
   "source": [
    "td_jan_feb_version, td_job = feature_view.create_training_dataset(\n",
    "    description = 'transactions_dataset_jan_feb',\n",
    "    data_format = 'csv',\n",
    "    write_options = {'wait_for_job': True},\n",
    "    coalesce = True,\n",
    "    start_time = start_time,\n",
    "    end_time = end_time,\n",
    ")"
   ]
  },
  {
   "cell_type": "markdown",
   "metadata": {},
   "source": [
    "#### Create training dataset from March data"
   ]
  },
  {
   "cell_type": "code",
   "execution_count": 6,
   "metadata": {},
   "outputs": [],
   "source": [
    "start_time = int(float(datetime.strptime(\"2022-03-01 00:00:01\", date_format).timestamp()) * 1000)\n",
    "end_time = int(float(datetime.strptime(\"2022-03-31 23:59:59\", date_format).timestamp()) * 1000)"
   ]
  },
  {
   "cell_type": "code",
   "execution_count": 7,
   "metadata": {},
   "outputs": [
    {
     "name": "stdout",
     "output_type": "stream",
     "text": [
      "Training dataset job started successfully, you can follow the progress at https://hopsworks.glassfish.service.consul:8182/p/119/jobs/named/transactions_view_1_3_create_fv_td_26052022085130/executions\n"
     ]
    },
    {
     "name": "stderr",
     "output_type": "stream",
     "text": [
      "VersionWarning: No version provided for creating training dataset, incremented version to `3`.\n"
     ]
    }
   ],
   "source": [
    "td_mar_version, td_job = feature_view.create_training_dataset(\n",
    "    description = 'transactions_dataset_mar',\n",
    "    data_format = 'csv',\n",
    "    write_options = {'wait_for_job': True},\n",
    "    coalesce = True,\n",
    "    start_time = start_time,\n",
    "    end_time = end_time,\n",
    ")"
   ]
  },
  {
   "cell_type": "markdown",
   "metadata": {},
   "source": [
    "#### Training Dataset retreival\n",
    "To retrieve training data from storage (already materialised) or from feature groups direcly we can use `get_training_dataset_splits` or `get_training_dataset` methods. If version is not provided or provided version has not already existed, it creates a new version of training data according to given arguments and returns a dataframe. If version is provided and has already existed, it reads training data from storage or feature groups and returns a dataframe. If split is provided, it reads the specific split."
   ]
  },
  {
   "cell_type": "code",
   "execution_count": null,
   "metadata": {},
   "outputs": [],
   "source": [
    "td_version, td_df_random = feature_view.get_training_dataset_splits({'train': 80, 'validation': 20}, start_time=None, end_time=None, version = td_random_version)"
   ]
  },
  {
   "cell_type": "code",
   "execution_count": null,
   "metadata": {},
   "outputs": [
    {
     "data": {
      "text/plain": [
       "{'train':        fraud_label  category        amount  age_at_transaction  \\\n",
       " 0                0         0  0.000000e+00            0.063759   \n",
       " 1                0         0  0.000000e+00            0.340603   \n",
       " 2                0         0  3.336858e-07            0.364075   \n",
       " 3                0         0  3.336858e-07            0.374570   \n",
       " 4                0         0  3.336858e-07            0.573938   \n",
       " ...            ...       ...           ...                 ...   \n",
       " 84739            1         5  7.304049e-03            0.909331   \n",
       " 84740            1         5  1.362873e-02            0.516288   \n",
       " 84741            1         8  1.698461e-04            0.132164   \n",
       " 84742            1         8  4.875150e-04            0.488983   \n",
       " 84743            1         8  3.098940e-03            0.266895   \n",
       " \n",
       "        days_until_card_expires  loc_delta  trans_volume_mstd  \\\n",
       " 0                     0.132038   0.000046       0.000000e+00   \n",
       " 1                     0.208485   0.224487       0.000000e+00   \n",
       " 2                     0.664443   0.098624       3.336858e-07   \n",
       " 3                     0.458921   0.260845       3.336858e-07   \n",
       " 4                     0.205095   0.024463       1.330339e-01   \n",
       " ...                        ...        ...                ...   \n",
       " 84739                 0.729056   0.227438       4.702467e-03   \n",
       " 84740                 0.314472   0.091271       5.831589e-03   \n",
       " 84741                 0.816506   0.230563       1.698461e-04   \n",
       " 84742                 0.607059   0.046052       4.875150e-04   \n",
       " 84743                 0.270388   0.103586       3.098940e-03   \n",
       " \n",
       "        trans_volume_mavg    trans_freq  loc_delta_mavg  \n",
       " 0           0.000000e+00  0.000000e+00        0.000047  \n",
       " 1           0.000000e+00  0.000000e+00        0.228318  \n",
       " 2           3.336858e-07  3.336858e-07        0.100307  \n",
       " 3           3.336858e-07  3.336858e-07        0.265296  \n",
       " 4           1.330339e-01  1.330339e-01        0.019678  \n",
       " ...                  ...           ...             ...  \n",
       " 84739       4.702467e-03  4.702467e-03        0.204941  \n",
       " 84740       5.831589e-03  5.831589e-03        0.099539  \n",
       " 84741       1.698461e-04  1.698461e-04        0.234498  \n",
       " 84742       4.875150e-04  4.875150e-04        0.046838  \n",
       " 84743       3.098940e-03  3.098940e-03        0.105353  \n",
       " \n",
       " [84744 rows x 10 columns],\n",
       " 'validation':        fraud_label  category        amount  age_at_transaction  \\\n",
       " 0                0         0  0.000000e+00            0.010858   \n",
       " 1                0         0  0.000000e+00            0.047378   \n",
       " 2                0         0  0.000000e+00            0.954661   \n",
       " 3                0         0  3.336858e-07            0.612448   \n",
       " 4                0         0  3.336858e-07            0.817815   \n",
       " ...            ...       ...           ...                 ...   \n",
       " 21271            1         4  2.328460e-03            0.560456   \n",
       " 21272            1         4  2.690842e-03            0.206613   \n",
       " 21273            1         4  2.781271e-03            0.206613   \n",
       " 21274            1         4  3.105280e-03            0.516288   \n",
       " 21275            1         5  4.428011e-03            0.922010   \n",
       " \n",
       "        days_until_card_expires  loc_delta  trans_volume_mstd  \\\n",
       " 0                     0.850530   0.026437       0.000000e+00   \n",
       " 1                     0.943808   0.037840       0.000000e+00   \n",
       " 2                     0.874915   0.194834       0.000000e+00   \n",
       " 3                     0.278807   0.176580       5.505816e-06   \n",
       " 4                     0.368757   0.124282       3.336858e-07   \n",
       " ...                        ...        ...                ...   \n",
       " 21271                 0.835660   0.245129       4.272227e-03   \n",
       " 21272                 0.228957   0.029113       2.856851e-03   \n",
       " 21273                 0.228956   0.064870       1.796564e-03   \n",
       " 21274                 0.314472   0.022322       4.532065e-03   \n",
       " 21275                 0.287235   0.099245       2.328126e-03   \n",
       " \n",
       "        trans_volume_mavg    trans_freq  loc_delta_mavg  \n",
       " 0           0.000000e+00  0.000000e+00        0.026888  \n",
       " 1           0.000000e+00  0.000000e+00        0.038485  \n",
       " 2           0.000000e+00  0.000000e+00        0.198159  \n",
       " 3           5.505816e-06  5.505816e-06        0.179575  \n",
       " 4           3.336858e-07  3.336858e-07        0.126403  \n",
       " ...                  ...           ...             ...  \n",
       " 21271       4.272227e-03  4.272227e-03        0.162152  \n",
       " 21272       2.856851e-03  2.856851e-03        0.032057  \n",
       " 21273       1.796564e-03  1.796564e-03        0.097730  \n",
       " 21274       4.532065e-03  4.532065e-03        0.100658  \n",
       " 21275       2.328126e-03  2.328126e-03        0.073158  \n",
       " \n",
       " [21276 rows x 10 columns]}"
      ]
     },
     "execution_count": 12,
     "metadata": {},
     "output_type": "execute_result"
    }
   ],
   "source": [
    "td_df_random"
   ]
  },
  {
   "cell_type": "markdown",
   "metadata": {},
   "source": [
    "## From feature view we can also retrieve feature vecors from online store for low latency model serving \n",
    "Training data version is required for transformation. Call `feature_view.init_serving(version)` to pass the training dataset version. "
   ]
  },
  {
   "cell_type": "code",
   "execution_count": null,
   "metadata": {},
   "outputs": [],
   "source": [
    "feature_view.init_serving(td_version)"
   ]
  },
  {
   "cell_type": "markdown",
   "metadata": {},
   "source": [
    "### Retrieve single feature vector"
   ]
  },
  {
   "cell_type": "code",
   "execution_count": null,
   "metadata": {},
   "outputs": [
    {
     "data": {
      "text/plain": [
       "[0,\n",
       " 0.0031516625395292554,\n",
       " 0.965191934117049,\n",
       " 0.7179505149718097,\n",
       " 4.878885699966219e-05,\n",
       " 0.0031516625395292554,\n",
       " 0.0031516625395292554,\n",
       " 0.0031516625395292554,\n",
       " 4.962147746344275e-05]"
      ]
     },
     "execution_count": 14,
     "metadata": {},
     "output_type": "execute_result"
    }
   ],
   "source": [
    "feature_view.get_feature_vector({\"cc_num\": \"4473593503484549\"})"
   ]
  },
  {
   "cell_type": "markdown",
   "metadata": {},
   "source": [
    "### Retrieve batch of feature vectors\n",
    "\n",
    "Here we have to let feature_view that we need to get batch of feature vectors by passing `batch=True` to `init_serving` method  "
   ]
  },
  {
   "cell_type": "code",
   "execution_count": null,
   "metadata": {},
   "outputs": [
    {
     "data": {
      "text/plain": [
       "[[4,\n",
       "  0.002657473844871466,\n",
       "  0.20630816963956888,\n",
       "  0.08422812335515834,\n",
       "  0.016149670940147576,\n",
       "  0.002837664185935076,\n",
       "  0.002837664185935076,\n",
       "  0.002837664185935076,\n",
       "  0.10358870705000209],\n",
       " [0,\n",
       "  0.010312893853540624,\n",
       "  0.9201860206125401,\n",
       "  0.3617157360201056,\n",
       "  1.6629020599070833e-05,\n",
       "  0.010312893853540624,\n",
       "  0.010312893853540624,\n",
       "  0.010312893853540624,\n",
       "  1.691280799841865e-05],\n",
       " [2,\n",
       "  0.003054559966844977,\n",
       "  0.12618853282517062,\n",
       "  0.6789481436010685,\n",
       "  0.042688882578669526,\n",
       "  0.003054559966844977,\n",
       "  0.003054559966844977,\n",
       "  0.003054559966844977,\n",
       "  0.04341740215092864],\n",
       " [0,\n",
       "  0.0031516625395292554,\n",
       "  0.965191934117049,\n",
       "  0.7179505149718097,\n",
       "  4.878885699966219e-05,\n",
       "  0.0031516625395292554,\n",
       "  0.0031516625395292554,\n",
       "  0.0031516625395292554,\n",
       "  4.962147746344275e-05],\n",
       " [0,\n",
       "  0.002340472318926226,\n",
       "  0.3447499685397045,\n",
       "  0.39386150765299255,\n",
       "  0.07351390242359915,\n",
       "  0.0026661496761078616,\n",
       "  0.0026661496761078616,\n",
       "  0.0026661496761078616,\n",
       "  0.24965591627238473],\n",
       " [0,\n",
       "  0.002843003159003627,\n",
       "  0.49106222788106474,\n",
       "  0.441817859593234,\n",
       "  2.5789191143519876e-05,\n",
       "  0.002843003159003627,\n",
       "  0.002843003159003627,\n",
       "  0.002843003159003627,\n",
       "  2.6229304103673615e-05],\n",
       " [2,\n",
       "  0.0003757302296993057,\n",
       "  0.5454702209159279,\n",
       "  0.6795727217819746,\n",
       "  0.03992660647465387,\n",
       "  0.0003757302296993057,\n",
       "  0.0003757302296993057,\n",
       "  0.0003757302296993057,\n",
       "  0.04060798561867391]]"
      ]
     },
     "execution_count": 15,
     "metadata": {},
     "output_type": "execute_result"
    }
   ],
   "source": [
    "feature_view.init_serving(td_version, batch=True)\n",
    "card_ids = [\n",
    "    \"4473593503484549\",\n",
    "    \"4336399961348201\",\n",
    "    \"4219785543443381\",\n",
    "    \"4137709749259770\",\n",
    "    \"4573366597272313\",\n",
    "    \"4929411498746287\",\n",
    "    \"4855787436134696\"    \n",
    "]\n",
    "feature_view.get_feature_vectors(entry={\"cc_num\": card_ids})"
   ]
  },
  {
   "cell_type": "markdown",
   "metadata": {},
   "source": [
    "### Next Steps\n",
    "\n",
    "In the next notebook, we will train a model on the dataset we created in this notebook."
   ]
  }
 ],
 "metadata": {
  "interpreter": {
   "hash": "31f2aee4e71d21fbe5cf8b01ff0e069b9275f58929596ceb00d14d90e3e16cd6"
  },
  "kernelspec": {
   "display_name": "Python 3",
   "language": "python",
   "name": "python3"
  },
  "language_info": {
   "codemirror_mode": {
    "name": "ipython",
    "version": 3
   },
   "file_extension": ".py",
   "mimetype": "text/x-python",
   "name": "python",
   "nbconvert_exporter": "python",
   "pygments_lexer": "ipython3",
   "version": "3.8.10"
  }
 },
 "nbformat": 4,
 "nbformat_minor": 4
}
