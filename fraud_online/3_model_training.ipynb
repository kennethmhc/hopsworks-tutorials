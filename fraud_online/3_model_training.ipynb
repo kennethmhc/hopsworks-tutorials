{
 "cells": [
  {
   "cell_type": "markdown",
   "id": "f462b909",
   "metadata": {},
   "source": [
    "# <span style=\"font-width:bold; font-size: 3rem; color:#1EB182;\"><img src=\"../images/icon102.png\" width=\"38px\"></img> **Hopsworks Feature Store** </span><span style=\"font-width:bold; font-size: 3rem; color:#333;\">- Part 03: Model training & UI Exploration</span>\n",
    "\n",
    "<span style=\"font-width:bold; font-size: 1.4rem;\">In this last notebook, we will train a model on the dataset we created in the previous tutorial. We will train our model using standard Python and Scikit-learn, although it could just as well be trained with other machine learning frameworks such as PySpark, TensorFlow, and PyTorch. We will also show some of the exploration that can be done in Hopsworks, notably the search functions and the lineage. </span>\n",
    "\n",
    "## **🗒️ This notebook is divided in 5 main sections:** \n",
    "1. **Loading the training data**\n",
    "2. **Train the model**\n",
    "3. **Register model to Hopsworks model registry**.\n",
    "4. **Deploy the model on KServe behind Hopsworks for real-time inference requests**.\n",
    "5. **Test model deployment and use model serving rest APIs**.\n",
    "\n",
    "![tutorial-flow](../images/03_model.png)"
   ]
  },
  {
   "cell_type": "code",
   "execution_count": null,
   "id": "400f51e4",
   "metadata": {},
   "outputs": [],
   "source": [
    "import hopsworks\n",
    "\n",
    "project = hopsworks.login()\n",
    "\n",
    "fs = project.get_feature_store()"
   ]
  },
  {
   "cell_type": "code",
   "execution_count": null,
   "id": "fd46fb33",
   "metadata": {},
   "outputs": [],
   "source": [
    "feature_view = fs.get_feature_view(\"transactions_fraud_online_fv\", 1)"
   ]
  },
  {
   "cell_type": "markdown",
   "id": "b4ddaa8d",
   "metadata": {},
   "source": [
    "## <span style=\"color:#ff5f27;\"> ✨ Load Training Data </span>\n",
    "\n",
    "First, we'll need to fetch the training dataset that we created in the previous notebook. We will use January - February data training and testing."
   ]
  },
  {
   "cell_type": "code",
   "execution_count": null,
   "id": "5cdae8f6",
   "metadata": {},
   "outputs": [],
   "source": [
    "import pandas as pd\n",
    "from sklearn.linear_model import LogisticRegression\n",
    "\n",
    "train_jan_feb_x, train_jan_feb_y = feature_view.get_training_data(1)\n",
    "test_mar_x, test_mar_y = feature_view.get_training_data(2)"
   ]
  },
  {
   "cell_type": "markdown",
   "id": "64ee12c6",
   "metadata": {},
   "source": [
    "## <span style=\"color:#ff5f27;\"> 🏃 Train Model</span>\n",
    "\n",
    "Next we'll train a model. Here, we set the class weight of the positive class to be twice as big as the negative class."
   ]
  },
  {
   "cell_type": "code",
   "execution_count": null,
   "id": "979fcd61",
   "metadata": {},
   "outputs": [],
   "source": [
    "import numpy as np\n",
    "from sklearn.ensemble import IsolationForest\n",
    "\n",
    "# fit the model\n",
    "clf = IsolationForest(max_samples=100)\n",
    "clf.fit(train_jan_feb_x)"
   ]
  },
  {
   "cell_type": "code",
   "execution_count": null,
   "id": "bea0f770",
   "metadata": {},
   "outputs": [],
   "source": [
    "# Train Predictions\n",
    "y_pred_train = clf.predict(train_jan_feb_x)"
   ]
  },
  {
   "cell_type": "code",
   "execution_count": null,
   "id": "f532ccf7",
   "metadata": {},
   "outputs": [],
   "source": [
    "# Test Predictions\n",
    "y_pred_test = clf.predict(test_mar_x)"
   ]
  },
  {
   "cell_type": "code",
   "execution_count": null,
   "id": "0b04d3db",
   "metadata": {},
   "outputs": [],
   "source": [
    "from sklearn.metrics import confusion_matrix, f1_score\n",
    "from matplotlib import pyplot\n",
    "import seaborn as sn\n",
    "\n",
    "%matplotlib inline\n",
    "\n",
    "if_cm=confusion_matrix(test_mar_y, y_pred_test)\n",
    "pd.DataFrame(if_cm)\n",
    "df_cm = pd.DataFrame(if_cm, ['step', 'True Normal',  'True Fraud'],['Pred Normal', 'step', 'Pred Fraud'])\n",
    "df_cm.drop(index=\"step\",inplace=True)\n",
    "df_cm.drop(\"step\", axis=1, inplace=True)\n",
    "\n",
    "pyplot.figure(figsize = (8,4))\n",
    "sn.set(font_scale=1.4)#for label size\n",
    "sn.heatmap(df_cm, annot=True,annot_kws={\"size\": 16},fmt='g')# font size"
   ]
  },
  {
   "cell_type": "code",
   "execution_count": null,
   "id": "be20185c",
   "metadata": {},
   "outputs": [],
   "source": [
    "if_cm=confusion_matrix(train_jan_feb_y, y_pred_train)\n",
    "pd.DataFrame(if_cm)\n",
    "df_cm = pd.DataFrame(if_cm, ['step', 'True Normal',  'True Fraud'],['Pred Normal', 'step', 'Pred Fraud'])\n",
    "df_cm.drop(index=\"step\",inplace=True)\n",
    "df_cm.drop(\"step\", axis=1, inplace=True)\n",
    "\n",
    "pyplot.figure(figsize = (8,4))\n",
    "sn.set(font_scale=1.4)#for label size\n",
    "sn.heatmap(df_cm, annot=True,annot_kws={\"size\": 16},fmt='g')# font size"
   ]
  },
  {
   "cell_type": "code",
   "execution_count": null,
   "id": "5fcdb16a",
   "metadata": {},
   "outputs": [],
   "source": [
    "from sklearn.metrics import f1_score\n",
    "# Compute f1 score\n",
    "metrics = {\"fscore\": f1_score(test_mar_y, y_pred_test, average='micro')}\n",
    "metrics"
   ]
  },
  {
   "cell_type": "markdown",
   "id": "54829234",
   "metadata": {},
   "source": [
    "\n",
    "## <span style=\"color:#ff5f27;\"> Register model</span>\n",
    "\n",
    "One of the features in Hopsworks is the model registry. This is where we can store different versions of models and compare their performance. Models from the registry can then be served as API endpoints.\n",
    "\n",
    "Let's connect to the model registry using the HSML library from Hopsworks."
   ]
  },
  {
   "cell_type": "code",
   "execution_count": null,
   "id": "c6df1611",
   "metadata": {},
   "outputs": [],
   "source": [
    "mr = project.get_model_registry()"
   ]
  },
  {
   "cell_type": "code",
   "execution_count": null,
   "id": "3f5fce7e",
   "metadata": {},
   "outputs": [],
   "source": [
    "import joblib\n",
    "\n",
    "joblib.dump(clf, 'model.pkl')"
   ]
  },
  {
   "cell_type": "markdown",
   "id": "38146aee",
   "metadata": {},
   "source": [
    "The model needs to be set up with a Model Schema, which describes the inputs and outputs for a model.\n",
    "\n",
    "A Model Schema can be automatically generated from training examples, as shown below."
   ]
  },
  {
   "cell_type": "code",
   "execution_count": null,
   "id": "1806ef3f",
   "metadata": {},
   "outputs": [],
   "source": [
    "from hsml.schema import Schema\n",
    "from hsml.model_schema import ModelSchema\n",
    "\n",
    "input_schema = Schema(train_jan_feb_x)\n",
    "output_schema = Schema(train_jan_feb_y)\n",
    "model_schema = ModelSchema(input_schema=input_schema, output_schema=output_schema)\n",
    "\n",
    "model_schema.to_dict()"
   ]
  },
  {
   "cell_type": "code",
   "execution_count": null,
   "id": "cc1aabf5",
   "metadata": {},
   "outputs": [],
   "source": [
    "test_credit_card = [4467360740682089]\n",
    "model = mr.sklearn.create_model(\n",
    "    name=\"transactions_fraud_online_model\",\n",
    "    metrics=metrics,\n",
    "    description=\"Isolation forest anomaly detection model\",\n",
    "    input_example = test_credit_card,\n",
    "    model_schema=model_schema\n",
    ")\n",
    "\n",
    "model.save('model.pkl')"
   ]
  },
  {
   "cell_type": "markdown",
   "id": "2582d9cc",
   "metadata": {},
   "source": [
    "## <span style=\"color:#ff5f27;\"> Deploy model</span>\n",
    "### About Model Serving\n",
    "Models can be served via KFServing or \"default\" serving, which means a Docker container exposing a Flask server. For KFServing models, or models written in Tensorflow, you do not need to write a prediction file (see the section below). However, for sklearn models using default serving, you do need to proceed to write a prediction file.\n",
    "\n",
    "In order to use KFServing, you must have Kubernetes installed and enabled on your cluster.\n",
    "\n",
    "### Create the Prediction File\n",
    "In order to deploy a model, you need to write a Python file containing the logic to return a prediction from the model. Don't worry, this is usually a matter of just modifying some paths in a template script. An example can be seen in the code block below, where we have taken this Scikit-learn template script and changed two paths (see comments)."
   ]
  },
  {
   "cell_type": "code",
   "execution_count": null,
   "id": "99e02af5",
   "metadata": {},
   "outputs": [],
   "source": [
    "%%writefile predict_example.py\n",
    "import os\n",
    "import hsfs\n",
    "from sklearn.externals import joblib\n",
    "\n",
    "class Predict(object):\n",
    "\n",
    "    def __init__(self):\n",
    "        \"\"\" Initializes the serving state, reads a trained model\"\"\"        \n",
    "        # get feature store handle\n",
    "        fs_conn = hsfs.connection()\n",
    "        self.fs = fs_conn.get_feature_store()\n",
    "        \n",
    "        # get feature views\n",
    "        self.fv = self.fs.get_feature_view(\"transactions_fraud_online_fv\", 1)\n",
    "        \n",
    "        # initialise serving\n",
    "        self.fv.init_serving(1)\n",
    "\n",
    "        # load the trained model\n",
    "        self.model = joblib.load(os.environ[\"ARTIFACT_FILES_PATH\"] + \"/model.pkl\")\n",
    "        print(\"Initialization Complete\")\n",
    "\n",
    "    def predict(self, inputs):\n",
    "        \"\"\" Serves a prediction request usign a trained model\"\"\"\n",
    "        return self.model.predict(self.fv.get_feature_vector({\"cc_num\": inputs[0]})).tolist() # Numpy Arrays are not JSON serializable\n"
   ]
  },
  {
   "cell_type": "markdown",
   "id": "dd32c7cc",
   "metadata": {},
   "source": [
    "If you wonder why we use the path Models/fraud_tutorial_model/1/model.pkl, it is useful to know that the Data Sets tab in the Hopsworks UI lets you browse among the different files in the project. Registered models will be found underneath the Models directory. Since we saved our model with the name fraud_tutorial_model, that's the directory we should look in. 1 is just the version of the model we want to deploy.\n",
    "\n",
    "This script needs to be put into a known location in the Hopsworks file system. Let's call the file predict_example.py and put it in the Models directory."
   ]
  },
  {
   "cell_type": "code",
   "execution_count": null,
   "id": "8d52d396",
   "metadata": {},
   "outputs": [],
   "source": [
    "import os\n",
    "dataset_api = project.get_dataset_api()\n",
    "\n",
    "uploaded_file_path = dataset_api.upload(\"predict_example.py\", \"Models\", overwrite=True)\n",
    "predictor_script_path = os.path.join(\"/Projects\", project.name, uploaded_file_path)"
   ]
  },
  {
   "cell_type": "markdown",
   "id": "3f0ccdd9",
   "metadata": {},
   "source": [
    "## Create the deployment\n",
    "Here, we fetch the model we want from the model registry and define a configuration for the deployment. For the configuration, we need to specify the serving type (default or KFserving) and in this case, since we use default serving and an sklearn model, we need to give the location of the prediction script."
   ]
  },
  {
   "cell_type": "code",
   "execution_count": null,
   "id": "07c1ab15",
   "metadata": {},
   "outputs": [],
   "source": [
    "# Use the model name from the previous notebook.\n",
    "model = mr.get_model(\"transactions_fraud_online_model\", version=1)\n",
    "\n",
    "# Give it any name you want\n",
    "deployment = model.deploy(\n",
    "    name=\"fraudonlinemodeldeployment\", \n",
    "    model_server=\"PYTHON\",\n",
    "    serving_tool=\"KSERVE\",\n",
    "    script_file=predictor_script_path\n",
    ")"
   ]
  },
  {
   "cell_type": "code",
   "execution_count": null,
   "id": "1f39310a",
   "metadata": {},
   "outputs": [],
   "source": [
    "print(\"Deployment: \" + deployment.name)\n",
    "deployment.describe()"
   ]
  },
  {
   "cell_type": "markdown",
   "id": "33ad3431",
   "metadata": {},
   "source": [
    "#### The deployment has now been registered. However, to start it you need to run:"
   ]
  },
  {
   "cell_type": "code",
   "execution_count": null,
   "id": "1b8a8b31",
   "metadata": {},
   "outputs": [],
   "source": [
    "deployment.start()"
   ]
  },
  {
   "cell_type": "code",
   "execution_count": null,
   "id": "fd444a4f",
   "metadata": {},
   "outputs": [],
   "source": [
    "deployment.get_logs()"
   ]
  },
  {
   "cell_type": "markdown",
   "id": "3a8693db",
   "metadata": {},
   "source": [
    "## Using the deployment\n",
    "Let's use the input example that we registered together with the model to query the deployment."
   ]
  },
  {
   "cell_type": "code",
   "execution_count": null,
   "id": "2abf2633",
   "metadata": {},
   "outputs": [],
   "source": [
    "data = {\n",
    "    \"inputs\": model.input_example\n",
    "}\n",
    "\n",
    "deployment.predict(data)"
   ]
  },
  {
   "cell_type": "code",
   "execution_count": null,
   "id": "bfac7725",
   "metadata": {},
   "outputs": [],
   "source": [
    "deployment.get_logs()"
   ]
  },
  {
   "cell_type": "markdown",
   "id": "bfdf70ae",
   "metadata": {},
   "source": [
    "### Use REST endpoint\n",
    "\n",
    "You can also use a REST endpoint for your model. To do this you need to create an API key with 'serving' enabled, and retrieve the endpoint URL from the Model Serving UI.\n",
    "\n",
    "Go to the Model Serving UI and click on the eye icon next to a model to retrieve the endpoint URL. The shorter URL is an internal endpoint that you can only reach from within Hopsworks. If you want to call it from outside, you need one of the longer URLs. \n",
    "\n",
    "\n",
    "![serving-endpoints](../images/serving_endpoints.gif)"
   ]
  },
  {
   "cell_type": "code",
   "execution_count": null,
   "id": "a5407b20",
   "metadata": {},
   "outputs": [],
   "source": [
    "import os\n",
    "import requests\n",
    "\n",
    "mr = project.get_model_registry()\n",
    "\n",
    "# Use the model name from the previous notebook.\n",
    "model = mr.get_model(\"fraud_tutorial_model\", version=1)\n",
    "\n",
    "test_inputs = [model.input_example]\n",
    "\n",
    "API_KEY = \"...\"  # Put your API key here.\n",
    "MODEL_SERVING_URL = \"...\" # Put model serving endppoint here.\n",
    "HOST_NAME = \"...\" # Put your hopsworks model serving hostname here \n",
    "\n",
    "data = {\"inputs\": test_inputs}\n",
    "headers = {\n",
    "    \"Content-Type\": \"application/json\", \"Accept\": \"application/json\",\n",
    "    \"Authorization\": f\"ApiKey {API_KEY}\",\n",
    "    \"Host\": HOST_NAME}\n",
    "\n",
    "response = requests.post(MODEL_SERVING_URL, verify=False, headers=headers, json=data)\n",
    "response.json()"
   ]
  },
  {
   "cell_type": "code",
   "execution_count": null,
   "id": "8d7fab39",
   "metadata": {},
   "outputs": [],
   "source": [
    "# Now lets test feature vectors from online store\n",
    "data = {\"inputs\": 4467360740682089}\n",
    "response = requests.post(url, verify=False, headers=headers, json=data)\n",
    "response.json()"
   ]
  },
  {
   "cell_type": "markdown",
   "id": "1d7c07cc",
   "metadata": {},
   "source": [
    "## Stop Deployment\n",
    "To stop the deployment we simply run:"
   ]
  },
  {
   "cell_type": "code",
   "execution_count": null,
   "id": "314bf182",
   "metadata": {},
   "outputs": [],
   "source": [
    "deployment.stop()"
   ]
  },
  {
   "cell_type": "markdown",
   "id": "5ef798e6",
   "metadata": {},
   "source": [
    "## <span style=\"color:#ff5f27;\"> 🎁  Wrapping things up </span>\n",
    "\n",
    "In this module we introduced stream feature group, performed with training data that we have created from feature view and depoyed model in production."
   ]
  },
  {
   "cell_type": "code",
   "execution_count": null,
   "id": "cd59a3b3",
   "metadata": {},
   "outputs": [],
   "source": []
  }
 ],
 "metadata": {
  "kernelspec": {
   "display_name": "Python 3 (ipykernel)",
   "language": "python",
   "name": "python3"
  },
  "language_info": {
   "codemirror_mode": {
    "name": "ipython",
    "version": 3
   },
   "file_extension": ".py",
   "mimetype": "text/x-python",
   "name": "python",
   "nbconvert_exporter": "python",
   "pygments_lexer": "ipython3",
   "version": "3.8.13"
  }
 },
 "nbformat": 4,
 "nbformat_minor": 5
}
